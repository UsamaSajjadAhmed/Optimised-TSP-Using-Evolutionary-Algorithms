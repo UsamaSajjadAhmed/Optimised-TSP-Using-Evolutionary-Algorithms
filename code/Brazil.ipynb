{
 "cells": [
  {
   "cell_type": "code",
   "execution_count": 1,
   "id": "579c9c7c",
   "metadata": {},
   "outputs": [],
   "source": [
    "# this is to import the xml.etree.ElementTree to read the XMl file\n",
    "import xml.etree.ElementTree as ET\n",
    "import numpy as np\n",
    "import pandas as pd\n",
    "import random\n",
    "import math\n",
    "import matplotlib.pyplot as plt\n",
    "%matplotlib inline"
   ]
  },
  {
   "cell_type": "markdown",
   "id": "0d81008a",
   "metadata": {},
   "source": [
    "Part-1:\n",
    "This part is for the importing of the data set and making a data frame"
   ]
  },
  {
   "cell_type": "code",
   "execution_count": 2,
   "id": "a480fe8d",
   "metadata": {},
   "outputs": [],
   "source": [
    "# the following will assigning the variable tree the value of parsed data of brazil58.xml\n",
    "tree = ET.parse('brazil58.xml')\n",
    "# the following will assigning the root of the data in the tree variable (brazil58) to the root variable\n",
    "root = tree.getroot()"
   ]
  },
  {
   "cell_type": "code",
   "execution_count": 3,
   "id": "f0a766a4",
   "metadata": {},
   "outputs": [],
   "source": [
    "# this will create a dictionary to store edge costs for vertices with alphabetical names\n",
    "vertex_costs = {}\n",
    "\n",
    "# the follwoing will itterate through verteces \n",
    "# this will ensure that the vertex and edge start with 'A' as the first vertex name\n",
    "current_vertex = ord('A')  \n",
    "current_edge = ord('A')\n",
    "\n",
    "for vertex in root.findall(\".//vertex\"):\n",
    "    vertex_name = chr(current_vertex)  # Convert the current_vertex value to a letter (e.g., 'A', 'B', 'C', ...)\n",
    "    edge_costs = [float(edge.get(\"cost\")) for edge in vertex.findall(\"edge\")]\n",
    "\n",
    "#     this will name the edges as 'A', 'B',... and so on, starting from 'A' but skipping the current_vertex\n",
    "    edge_names = [chr(current_edge + i) for i in range(len(edge_costs) + 1) if current_edge + i != ord(vertex_name)]\n",
    "\n",
    "#     now we will create a dictionary to store edge names and costs for the current vertex\n",
    "    edge_info = dict(zip(edge_names, edge_costs))\n",
    "\n",
    "    vertex_costs[vertex_name] = edge_info\n",
    "    current_vertex += 1 \n",
    "    current_edge = ord('A')"
   ]
  },
  {
   "cell_type": "markdown",
   "id": "8d95a47e",
   "metadata": {},
   "source": [
    "Creating a dataframe"
   ]
  },
  {
   "cell_type": "code",
   "execution_count": 4,
   "id": "e6a5445d",
   "metadata": {},
   "outputs": [
    {
     "data": {
      "text/html": [
       "<div>\n",
       "<style scoped>\n",
       "    .dataframe tbody tr th:only-of-type {\n",
       "        vertical-align: middle;\n",
       "    }\n",
       "\n",
       "    .dataframe tbody tr th {\n",
       "        vertical-align: top;\n",
       "    }\n",
       "\n",
       "    .dataframe thead th {\n",
       "        text-align: right;\n",
       "    }\n",
       "</style>\n",
       "<table border=\"1\" class=\"dataframe\">\n",
       "  <thead>\n",
       "    <tr style=\"text-align: right;\">\n",
       "      <th></th>\n",
       "      <th>City 1</th>\n",
       "      <th>City 2</th>\n",
       "      <th>Cost</th>\n",
       "    </tr>\n",
       "  </thead>\n",
       "  <tbody>\n",
       "    <tr>\n",
       "      <th>0</th>\n",
       "      <td>A</td>\n",
       "      <td>B</td>\n",
       "      <td>2635.0</td>\n",
       "    </tr>\n",
       "    <tr>\n",
       "      <th>1</th>\n",
       "      <td>A</td>\n",
       "      <td>C</td>\n",
       "      <td>2713.0</td>\n",
       "    </tr>\n",
       "    <tr>\n",
       "      <th>2</th>\n",
       "      <td>A</td>\n",
       "      <td>D</td>\n",
       "      <td>2437.0</td>\n",
       "    </tr>\n",
       "    <tr>\n",
       "      <th>3</th>\n",
       "      <td>A</td>\n",
       "      <td>E</td>\n",
       "      <td>1600.0</td>\n",
       "    </tr>\n",
       "    <tr>\n",
       "      <th>4</th>\n",
       "      <td>A</td>\n",
       "      <td>F</td>\n",
       "      <td>2845.0</td>\n",
       "    </tr>\n",
       "    <tr>\n",
       "      <th>...</th>\n",
       "      <td>...</td>\n",
       "      <td>...</td>\n",
       "      <td>...</td>\n",
       "    </tr>\n",
       "    <tr>\n",
       "      <th>3301</th>\n",
       "      <td>z</td>\n",
       "      <td>u</td>\n",
       "      <td>1446.0</td>\n",
       "    </tr>\n",
       "    <tr>\n",
       "      <th>3302</th>\n",
       "      <td>z</td>\n",
       "      <td>v</td>\n",
       "      <td>1345.0</td>\n",
       "    </tr>\n",
       "    <tr>\n",
       "      <th>3303</th>\n",
       "      <td>z</td>\n",
       "      <td>w</td>\n",
       "      <td>1408.0</td>\n",
       "    </tr>\n",
       "    <tr>\n",
       "      <th>3304</th>\n",
       "      <td>z</td>\n",
       "      <td>x</td>\n",
       "      <td>2986.0</td>\n",
       "    </tr>\n",
       "    <tr>\n",
       "      <th>3305</th>\n",
       "      <td>z</td>\n",
       "      <td>y</td>\n",
       "      <td>962.0</td>\n",
       "    </tr>\n",
       "  </tbody>\n",
       "</table>\n",
       "<p>3306 rows × 3 columns</p>\n",
       "</div>"
      ],
      "text/plain": [
       "     City 1 City 2    Cost\n",
       "0         A      B  2635.0\n",
       "1         A      C  2713.0\n",
       "2         A      D  2437.0\n",
       "3         A      E  1600.0\n",
       "4         A      F  2845.0\n",
       "...     ...    ...     ...\n",
       "3301      z      u  1446.0\n",
       "3302      z      v  1345.0\n",
       "3303      z      w  1408.0\n",
       "3304      z      x  2986.0\n",
       "3305      z      y   962.0\n",
       "\n",
       "[3306 rows x 3 columns]"
      ]
     },
     "execution_count": 4,
     "metadata": {},
     "output_type": "execute_result"
    }
   ],
   "source": [
    "# the following code will create a data frame so as to make the computation easey \n",
    "data_frame_of_cities = []\n",
    "\n",
    "for city1, city2_dict in vertex_costs.items():\n",
    "        for city2, cost in city2_dict.items():\n",
    "            entry = {\n",
    "            'City 1': city1,\n",
    "            'City 2': city2,\n",
    "            'Cost': cost\n",
    "        }\n",
    "            data_frame_of_cities.append(entry)\n",
    "        \n",
    "data_frame_of_cities = pd.DataFrame(data_frame_of_cities)\n",
    "data_frame_of_cities"
   ]
  },
  {
   "cell_type": "code",
   "execution_count": 7,
   "id": "9f1fa413",
   "metadata": {},
   "outputs": [],
   "source": [
    "# this will create a list of dataframe created above for reducing time complexity\n",
    "data_list_of_cities = data_frame_of_cities.to_dict(orient='records')"
   ]
  },
  {
   "cell_type": "markdown",
   "id": "0915f8e9",
   "metadata": {},
   "source": [
    "Part-2:\n",
    "This part is the for the population generations, completing the loop and calculating the cost"
   ]
  },
  {
   "cell_type": "markdown",
   "id": "e1c107c1",
   "metadata": {},
   "source": [
    "Now we will generate a population of size determinde by user input"
   ]
  },
  {
   "cell_type": "code",
   "execution_count": 9,
   "id": "342efaa5",
   "metadata": {},
   "outputs": [],
   "source": [
    "# the following function will generate n sample populations of all the cities in the column City 1\n",
    "def random_population_generator(data_frame, n):\n",
    "    cities = sorted(data_frame['City 1'].unique())  \n",
    "    combinations = set()  \n",
    "\n",
    "    while len(combinations) < n:\n",
    "        # this will generate a random permutation of the cities\n",
    "        random_combination = ''.join(random.sample(cities, len(cities)))\n",
    "\n",
    "#         this will add the combination to the set (if it is not present already present)\n",
    "        combinations.add(random_combination)\n",
    "    return list(combinations)"
   ]
  },
  {
   "cell_type": "code",
   "execution_count": 10,
   "id": "214a842d",
   "metadata": {},
   "outputs": [],
   "source": [
    "# this code will just complete the entire loop of string\n",
    "def complete_loop_strings(list_of_strings):\n",
    "    completed_strings = [string + string[0] for string in list_of_strings]\n",
    "    return completed_strings"
   ]
  },
  {
   "cell_type": "code",
   "execution_count": 11,
   "id": "e26493c1",
   "metadata": {},
   "outputs": [],
   "source": [
    "#  the following function will convert the list of strings to a list of tuples\n",
    "def convert_travel_list_to_tuples(string_list):\n",
    "    result = []\n",
    "    for city_travel in string_list:\n",
    "        travel_tuples = []\n",
    "        for i in range(len(city_travel) - 1):\n",
    "            travel_tuples.append((city_travel[i], city_travel[i + 1]))\n",
    "        result.append(travel_tuples)\n",
    "    return result"
   ]
  },
  {
   "cell_type": "code",
   "execution_count": 12,
   "id": "8f7e9c7a",
   "metadata": {},
   "outputs": [],
   "source": [
    "def total_cost_list(data_list, travel_legs):\n",
    "#     this will create a dictionary to map (city_1, city_2) pairs to their costs\n",
    "    cost_dict = {(row['City 1'], row['City 2']): row['Cost'] for row in data_list}\n",
    "\n",
    "    total_costs = []  \n",
    "    for legs in travel_legs:\n",
    "        cost_of_complete_travel = sum(cost_dict.get((city_1, city_2), 0) for city_1, city_2 in legs)\n",
    "        total_costs.append(cost_of_complete_travel)  \n",
    "    return total_costs"
   ]
  },
  {
   "cell_type": "markdown",
   "id": "adaea642",
   "metadata": {},
   "source": [
    "The follwoing code will crate a data frame of the random populations (paths) generated and the cost calculated of each path\n",
    "\n",
    "the following code is just for displaying the complete loop of the cities in the dataframe to show that the complete path is calculated and the end point is the starting point, that is to say that the city we start with is the city we end at"
   ]
  },
  {
   "cell_type": "code",
   "execution_count": 13,
   "id": "1cc95066",
   "metadata": {},
   "outputs": [],
   "source": [
    "# this function will take in lists and will generate the dataframe\n",
    "def dataframe_generator(path,cost):\n",
    "    data = {\n",
    "        'Path':path,\n",
    "        'Cost':cost\n",
    "    }\n",
    "    df = pd.DataFrame(data)\n",
    "    return df"
   ]
  },
  {
   "cell_type": "markdown",
   "id": "1fb3870f",
   "metadata": {},
   "source": [
    "Part-3:\n",
    "This part is regarding the experimentation with the population using operations such as tornament, mutation and crossover"
   ]
  },
  {
   "cell_type": "markdown",
   "id": "e684fc72",
   "metadata": {},
   "source": [
    "The following code will be regarding the tournament selection. It is here where we will select the tournament size and the tournament winners"
   ]
  },
  {
   "cell_type": "code",
   "execution_count": 14,
   "id": "879be70e",
   "metadata": {},
   "outputs": [],
   "source": [
    "# this function will select randomly from the population created above by random population generator\n",
    "def tournament_selection(population , number_of_selected_candidates):\n",
    "    selected_paths = random.sample(population,number_of_selected_candidates)\n",
    "    return selected_paths"
   ]
  },
  {
   "cell_type": "code",
   "execution_count": 15,
   "id": "837dfba4",
   "metadata": {},
   "outputs": [],
   "source": [
    "# the following code will complete the loop of the cities adding the path from the last city to the first city\n",
    "def add_last_city_to_first(tuples_list):\n",
    "    modified_list = []\n",
    "    for sublist in tuples_list:\n",
    "#         this will add the tuple with the last and first element\n",
    "        modified_sublist = sublist + [(sublist[-1][1], sublist[0][0])]\n",
    "        modified_list.append(modified_sublist)\n",
    "    return modified_list"
   ]
  },
  {
   "cell_type": "markdown",
   "id": "7c058ab1",
   "metadata": {},
   "source": [
    "The following code will calculate which of the contenders in tournament 1 and 2 have the highest fitness that is to say that they have the least cost"
   ]
  },
  {
   "cell_type": "code",
   "execution_count": 16,
   "id": "1a96dce2",
   "metadata": {},
   "outputs": [],
   "source": [
    "'''this function code is for the tournament selection, it will conduct the tournament to calculate which is the fittest\n",
    "option out of the generated tournament_selection'''\n",
    "def tournament(travel_legs, total_costs):\n",
    "#     this will nitialize min_cost to positive infinity\n",
    "    min_cost = float('inf')  \n",
    "    best_legs = None\n",
    "\n",
    "    for i, cost in enumerate(total_costs):\n",
    "        if cost < min_cost:\n",
    "            min_cost = cost\n",
    "            best_legs = travel_legs[i]\n",
    "    return best_legs, min_cost"
   ]
  },
  {
   "cell_type": "markdown",
   "id": "bcfe4050",
   "metadata": {},
   "source": [
    "The following code is to implement the single point cross-over or the uniform crossover, this code will treat the fittes_contender_tournament_1 and 2 as the parent 1 and 2 respectively and select a random single point corssover or uniform corssover and produce two children. Incase a city is repeated in the child it will remove that and replace it with a city thats not available in th child"
   ]
  },
  {
   "cell_type": "code",
   "execution_count": 19,
   "id": "27f092b1",
   "metadata": {},
   "outputs": [],
   "source": [
    "def random_single_point_crossover(parent1, parent2):\n",
    "#     the following code will ensure that the length of both parents is the same\n",
    "    if len(parent1) != len(parent2):\n",
    "        raise ValueError(\"Parents must have the same length\")\n",
    "\n",
    "#     the following lines of code will randomly select a crossover point from point 1 till the second last point\n",
    "    crossover_point = random.randint(1, len(parent1) - 1)\n",
    "#     print('Crossover point is', crossover_point)\n",
    "#     the following lines will corssover the parent 1 and the parent 2 to make the child 1 and 2 depending on the crossover point\n",
    "    child1 = parent1[:crossover_point] + parent2[crossover_point:]\n",
    "    child2 = parent2[:crossover_point] + parent1[crossover_point:]\n",
    "    return child1, child2"
   ]
  },
  {
   "cell_type": "code",
   "execution_count": 20,
   "id": "d20fa2ac",
   "metadata": {},
   "outputs": [],
   "source": [
    "# the following code will perform a uniform crossover if the user decides\n",
    "def uniform_crossover(parent1, parent2):\n",
    "#     the following code will ensure that the length of both parents is the same\n",
    "    if len(parent1) != len(parent2):\n",
    "        raise ValueError(\"Parents must have the same length\")\n",
    "\n",
    "#      the following will generate a binary mask for the crossover\n",
    "    crossover_binary_mask = [random.choice([0, 1]) for _ in range(len(parent1))]\n",
    "\n",
    "#     this will initilize the child strings\n",
    "    child1 = \"\"\n",
    "    child2 = \"\"\n",
    "#     the following will apply thebinary mask\n",
    "    for i in range(len(parent1)):\n",
    "        if crossover_binary_mask[i] == 1:\n",
    "            child1 += parent2[i]\n",
    "            child2 += parent1[i]\n",
    "        else:\n",
    "            child1 += parent1[i]\n",
    "            child2 += parent2[i]\n",
    "    return child1, child2"
   ]
  },
  {
   "cell_type": "markdown",
   "id": "a15d6fe1",
   "metadata": {},
   "source": [
    "the following function check and fix will ensure that each city(alphabet) appears exactly once in a string"
   ]
  },
  {
   "cell_type": "code",
   "execution_count": 21,
   "id": "fb3cf807",
   "metadata": {},
   "outputs": [],
   "source": [
    "'''the following code will fix the children so that each city(letter) appears only once, if a letter is appearing \n",
    "again it will replace and the length of the child will not be changed'''\n",
    "def check_and_fix(child, parent):\n",
    "#     this creates tow sets of unique characteracters of parent and child\n",
    "    parent_set = set(parent)\n",
    "    child_set = set(child)\n",
    "\n",
    "#     this will find the  characteracters in child that are repeated\n",
    "    repeated_characters_child = [character for character in child if child.count(character) > 1]\n",
    "\n",
    "#     the fillowing code will replace repeated characteracters in child with missing characteracters from parent\n",
    "    for character in repeated_characters_child:\n",
    "        missing_characters = parent_set - child_set\n",
    "        if missing_characters:\n",
    "            replacement = missing_characters.pop()\n",
    "            child = child.replace(character, replacement, 1)\n",
    "            child_set.add(replacement)\n",
    "    return child"
   ]
  },
  {
   "cell_type": "markdown",
   "id": "223444c8",
   "metadata": {},
   "source": [
    "The following code will run the Mutation funciton on the children produced in the above code and it will give new solution after the complettion of the mutation function."
   ]
  },
  {
   "cell_type": "code",
   "execution_count": 19,
   "id": "4975fa18",
   "metadata": {},
   "outputs": [],
   "source": [
    "# the follwoing code will apply mutation on the children produced after swap mutation\n",
    "def mutation(child, n):\n",
    "    if n < 1:\n",
    "        return child\n",
    "    \n",
    "    child_list = list(child)\n",
    "\n",
    "    for _ in range(n):\n",
    "#         this will select two random indices in the child\n",
    "        indices = random.sample(range(len(child_list)), 2)\n",
    "\n",
    "#         this swaps the characters at the selected indices\n",
    "        child_list[indices[0]], child_list[indices[1]] = child_list[indices[1]], child_list[indices[0]]\n",
    "\n",
    "    mutated_child = ''.join(child_list)\n",
    "    return mutated_child"
   ]
  },
  {
   "cell_type": "markdown",
   "id": "b9b254a5",
   "metadata": {},
   "source": [
    "the following code will compare the mutants data frame with the original data frame and make replacements on the basis of fitness of the elements"
   ]
  },
  {
   "cell_type": "code",
   "execution_count": 20,
   "id": "50abacd7",
   "metadata": {},
   "outputs": [],
   "source": [
    "# the following funcion will look at the original dataframe and compare the mutant\n",
    "def update_df_with_mutants(df, mutants_dataframe):\n",
    "    for idx, row in mutants_dataframe.iterrows():\n",
    "        path = row['Path']\n",
    "        cost = row['Cost']\n",
    "#         find the index where the cost is lower\n",
    "        lower_cost_indices = df[df['Cost'] > cost].index\n",
    "        \n",
    "        if not lower_cost_indices.empty:\n",
    "            # replace the row with the highest cost\n",
    "            highest_cost_index = df['Cost'].idxmax()\n",
    "#             print(highest_cost_index)\n",
    "            df.at[highest_cost_index, 'Path'] = path\n",
    "            df.at[highest_cost_index, 'Cost'] = cost\n",
    "    return df"
   ]
  },
  {
   "cell_type": "markdown",
   "id": "d660ef63",
   "metadata": {},
   "source": [
    "In order to reduce the time complexity the following function was made which takes as input the two lists of the original population and the mutatns and outputs the list containing the least costs. it basically does the same thing as above but in reduced timings"
   ]
  },
  {
   "cell_type": "code",
   "execution_count": 21,
   "id": "02b22669",
   "metadata": {},
   "outputs": [],
   "source": [
    "def update_list_with_mutants(list1, list2):\n",
    "    for mutant in list2:\n",
    "        path = mutant['Path']\n",
    "        cost = mutant['Cost']\n",
    "\n",
    "#         this will find the indices in list 1 where the cost is higher\n",
    "        higher_cost_indices = [i for i, item in enumerate(list1) if item['Cost'] > cost]\n",
    "\n",
    "        if higher_cost_indices:\n",
    "#             this will fiind the index of the item with the highest cost in list1\n",
    "            highest_cost_index = max(higher_cost_indices, key=lambda i: list1[i]['Cost'])\n",
    "\n",
    "#             the fillowing will replace the item with the highest cost in list1 with the mutant\n",
    "            list1[highest_cost_index]['Path'] = path\n",
    "            list1[highest_cost_index]['Cost'] = cost\n",
    "\n",
    "    return list1"
   ]
  },
  {
   "cell_type": "code",
   "execution_count": 23,
   "id": "5dabdd85",
   "metadata": {},
   "outputs": [],
   "source": [
    "def calculate_cost_statistics(paths_dataframe_to_list): \n",
    "#   this will hodl the values as specified \n",
    "    max_cost = float('-inf')\n",
    "    min_cost = float('inf')\n",
    "    total_cost = 0\n",
    "#   this will itterate over the values in the path_dataframe_to_list\n",
    "    for path in paths_dataframe_to_list:\n",
    "        cost = path['Cost']\n",
    "        total_cost += cost\n",
    "#       this will add the max cost\n",
    "        if cost > max_cost:\n",
    "            max_cost = cost\n",
    "#       this will add the min cost\n",
    "        if cost < min_cost:\n",
    "            min_cost = cost\n",
    "#   this will calculate the mean cost\n",
    "    mean_cost = total_cost / len(paths_dataframe_to_list)\n",
    "    return max_cost, min_cost, mean_cost"
   ]
  },
  {
   "cell_type": "markdown",
   "id": "12fbf234",
   "metadata": {},
   "source": [
    "Part-4:\n",
    "The following code will be regarding the running of the experiment and all the relevant outputs for the data\n",
    "it is here the experiment parameters will be inputted by the user and the output and the plot will be made"
   ]
  },
  {
   "cell_type": "code",
   "execution_count": 131,
   "id": "158f0f5e",
   "metadata": {},
   "outputs": [
    {
     "name": "stdout",
     "output_type": "stream",
     "text": [
      "Please enter the size of the population 100\n",
      "Please enter the number of contenders for the tournament 20\n",
      "Do you want to perform crossover or not? (Y/N) Y\n",
      "Which type of crossover should be performed, enter 1 for single and 2 for uniform crossover1\n",
      "Do you want to perform mutation or not? (Y/N) Y\n",
      "please enter     the type of mutaiton, press 1 for single/multiple point mutation and 2 for full mutation 1\n",
      "Please enter the number of mutation level, 1 means single point mutation 1\n",
      "Please enter the number of itterations the code should run for 10000\n"
     ]
    }
   ],
   "source": [
    "# the following code will ask for the sieze of the random population\n",
    "sample_population_size = int(input('Please enter the size of the population '))\n",
    "random_population = random_population_generator(data_frame_of_cities , sample_population_size)\n",
    "random_population_complete_loop_string = complete_loop_strings(random_population)\n",
    "complete_loop_travel_path = convert_travel_list_to_tuples(random_population_complete_loop_string)\n",
    "complete_loop_travel_path_cost = total_cost_list(data_list_of_cities , complete_loop_travel_path)\n",
    "paths_dataframe = dataframe_generator(random_population_complete_loop_string , complete_loop_travel_path_cost)\n",
    "\n",
    "#the following will convert the data frame to list for reducing time complexity\n",
    "paths_dataframe_to_list = paths_dataframe.to_dict(orient='records')\n",
    "\n",
    "# this will ask for the tournament size\n",
    "number_of_contenders_for_tournament = int(input('Please enter the number of contenders for the tournament '))\n",
    "\n",
    "# the following code will ask the user if they want to perform crossover or not\n",
    "crossover_check = input('Do you want to perform crossover or not? (Y/N) ')\n",
    "if (crossover_check == \"Y\"):\n",
    "    # this will ask the user if he wants a single point crossover or a uniform corssover\n",
    "    type_of_crossover = input('Which type of crossover should be performed, enter 1 for single and 2 for uniform crossover')\n",
    "    \n",
    "\n",
    "# this asks the user if he wants to perform mutation or not\n",
    "mutation_check = input('Do you want to perform mutation or not? (Y/N) ')\n",
    "\n",
    "if (mutation_check == 'Y'):\n",
    "    # this will ask for the type of mutation\n",
    "    type_of_mutaiton = input('please enter the type of mutaiton, press 1 for single/multiple point mutation and 2 for full mutation ')\n",
    "    if(type_of_mutaiton == '1'): \n",
    "        # this will ask for the number of points to be mutated\n",
    "        no_of_genes_to_mutate = int(input('Please enter the number of mutation level, 1 means single point mutation '))\n",
    "    elif(type_of_mutaiton == '2'):\n",
    "        #this will mutate all the solution\n",
    "        no_of_genes_to_mutate = int(len(random_population[0])/2)\n",
    "elif (mutation_check == 'N'):\n",
    "    no_of_genes_to_mutate = 0\n",
    "# the number of itterations the code should run for\n",
    "number_of_itterations = int(input('Please enter the number of itterations the code should run for '))"
   ]
  },
  {
   "cell_type": "code",
   "execution_count": 132,
   "id": "aec10044",
   "metadata": {},
   "outputs": [],
   "source": [
    "# this will create an array for plotting\n",
    "itteration = []\n",
    "for i in range(number_of_itterations):\n",
    "    itteration.append(i)"
   ]
  },
  {
   "cell_type": "code",
   "execution_count": 133,
   "id": "725fdc6d",
   "metadata": {},
   "outputs": [
    {
     "name": "stdout",
     "output_type": "stream",
     "text": [
      "Max cost before itteration is : {'Path': 'uJqWxQPMUFR[CaewSTcXGZEsyOjzDvobhHmAVgY\\\\L_I^t`nirBdlpNfKk]u', 'Cost': 145177.0}\n",
      "Mean cost before itteration is : 125481.31\n",
      "Min cost before itteration is : {'Path': 'x_KF\\\\Us[PtnZfiNLaVczuRpQdMwqBmH]kbXI^CrDeAWGjEghYyJOoT`vlSx', 'Cost': 107050.0}\n"
     ]
    }
   ],
   "source": [
    "max_cost_path = max(paths_dataframe_to_list, key=lambda x: x['Cost'])\n",
    "max_cost = max_cost_path['Cost']\n",
    "# this will caalculate the path with the minimum cost\n",
    "min_cost_path = min(paths_dataframe_to_list, key=lambda x: x['Cost'])\n",
    "\n",
    "# this will calculate the mean cost\n",
    "total_cost = sum(path['Cost'] for path in paths_dataframe_to_list)\n",
    "mean_cost = total_cost / len(paths_dataframe_to_list)\n",
    "\n",
    "print('Max cost before itteration is :',max_cost_path)\n",
    "print('Mean cost before itteration is :',mean_cost)\n",
    "print('Min cost before itteration is :',min_cost_path)"
   ]
  },
  {
   "cell_type": "code",
   "execution_count": 134,
   "id": "31dc867e",
   "metadata": {},
   "outputs": [
    {
     "name": "stdout",
     "output_type": "stream",
     "text": [
      "CPU times: total: 46 s\n",
      "Wall time: 46.2 s\n"
     ]
    }
   ],
   "source": [
    "%%time\n",
    "\n",
    "max_cost_list = []\n",
    "mean_cost_list = []\n",
    "min_cost_list = []\n",
    "\n",
    "for i in range(number_of_itterations):\n",
    "    '''the followind code will ask for the user to specify the size of each tournament and then will output the \n",
    "    tournament_contenders for 1 and 2'''\n",
    "    tournament_contenders_1 = tournament_selection(random_population , number_of_contenders_for_tournament)\n",
    "    tournament_contenders_2 = tournament_selection(random_population , number_of_contenders_for_tournament)\n",
    "    \n",
    "    '''The following code will convert the tournament contenders from list of strings to list of tuples using the \n",
    "    function convert_travel_list_to_tuples() stated above.'''\n",
    "    tournament_contenders_1_list = convert_travel_list_to_tuples(tournament_contenders_1)\n",
    "    tournament_contenders_2_list = convert_travel_list_to_tuples(tournament_contenders_2)\n",
    "    \n",
    "    '''the following will ensure that the city we start from is the same as the city we end at'''\n",
    "    tournament_contenders_1_list_complete_loop = add_last_city_to_first(tournament_contenders_1_list)\n",
    "    tournament_contenders_2_list_complete_loop = add_last_city_to_first(tournament_contenders_2_list)\n",
    "   \n",
    "    # The following code is to calculate the cost of the tournament contenders using the function total_cost() as stated above\n",
    "    cost_tournament_1_contenders = total_cost_list(data_list_of_cities , tournament_contenders_1_list_complete_loop)\n",
    "    cost_tournament_2_contenders = total_cost_list(data_list_of_cities , tournament_contenders_2_list_complete_loop)\n",
    "    \n",
    "    '''this code will take as input the name of the contenders and their cost, this merely checks the cost and outputs the one\n",
    "    with the least cost'''\n",
    "    fittest_contender_tournament_1 = tournament(tournament_contenders_1 , cost_tournament_1_contenders)\n",
    "    fittest_contender_tournament_2 = tournament(tournament_contenders_2 , cost_tournament_2_contenders)\n",
    "    \n",
    "    # this will assign winners of tournament as parents 1a and 2b\n",
    "    parent_1_a = fittest_contender_tournament_1[0]\n",
    "    parent_2_b = fittest_contender_tournament_2[0]\n",
    "\n",
    "    # this will check if the user wants to perfrom crossover or not\n",
    "    if (crossover_check == 'Y'): #if the user wants to perform crossover\n",
    "        \n",
    "        # if the user wants single point crossover\n",
    "        if(type_of_crossover == '1'):\n",
    "            \n",
    "            # the following code will use the function above to form the child c and d from the parents a and b using the crossover\n",
    "            child_1_c , child_2_d = random_single_point_crossover(parent_1_a , parent_2_b)\n",
    "\n",
    "            # the following will ensure using the function check and fix() stated above that each city appears exactly once\n",
    "            child_1_c = check_and_fix(child_1_c , parent_1_a)\n",
    "            child_2_d = check_and_fix(child_2_d , parent_2_b)\n",
    "        \n",
    "        #if the user wants uniform crossover\n",
    "        elif(type_of_crossover == '2'):\n",
    "            \n",
    "            # the following code will use the function above to form the child c and d from the parents a and b using the crossover\n",
    "            child_1_c , child_2_d = uniform_crossover(parent_1_a , parent_2_b)\n",
    "#             print(child_1_c , child_2_d)\n",
    "            \n",
    "            # the following will ensure using the function check and fix() stated above that each city appears exactly once\n",
    "            for j in range(len(child_1_c)//2):\n",
    "                child_1_c = check_and_fix(child_1_c , parent_1_a)\n",
    "                child_2_d = check_and_fix(child_2_d , parent_2_b)\n",
    "         #if the user dosen't want to perfrom crossover\n",
    "    elif (crossover_check == 'N'):\n",
    "        #assign the child the values of the tournament winner\n",
    "        child_1_c = parent_1_a\n",
    "        child_2_d = parent_2_b\n",
    "\n",
    "        # using the mutation() function stated above the follwing will apply mutation on the children\n",
    "    mutant_1_e = mutation(child_1_c , no_of_genes_to_mutate)\n",
    "    mutant_2_f = mutation(child_2_d , no_of_genes_to_mutate)\n",
    "    \n",
    "    #the following code will turn the mutant_children into a list and subsequently calculate the cost of the mutant children\n",
    "    mutants = [mutant_1_e , mutant_2_f]\n",
    "\n",
    "    #this code will complete the string in the loop form adding the last city to the first using the complete_loop_strings_for_df\n",
    "    mutants_loop_string = complete_loop_strings(mutants)\n",
    "\n",
    "    #the following will convert the list of strings to list of sublist containing tuples\n",
    "    mutants_list_tuples = convert_travel_list_to_tuples(mutants_loop_string)\n",
    "   \n",
    "    #the following will calculate the cost of the mutants\n",
    "    mutants_cost = total_cost_list(data_list_of_cities , mutants_list_tuples)\n",
    "    \n",
    "    #the follwing will form the mutant list\n",
    "    mutants_list = [{'Path': path, 'Cost': cost} for path, cost in zip(mutants_loop_string, mutants_cost)]\n",
    "    \n",
    "    #the following will update the original list wiht mutants\n",
    "    paths_dataframe_to_list = update_list_with_mutants(paths_dataframe_to_list , mutants_list)\n",
    "    \n",
    "    random_population = [path[:-1] for path in np.array([entry['Path'] for entry in paths_dataframe_to_list])]\n",
    "    max_cost , min_cost , mean_cost = calculate_cost_statistics(paths_dataframe_to_list)\n",
    "    max_cost_list.append(max_cost)\n",
    "    mean_cost_list.append(mean_cost)\n",
    "    min_cost_list.append(min_cost)"
   ]
  },
  {
   "cell_type": "code",
   "execution_count": 135,
   "id": "b2335cd6",
   "metadata": {},
   "outputs": [
    {
     "name": "stdout",
     "output_type": "stream",
     "text": [
      "Max cost after itteration is : 40698.0\n",
      "Mean cost after itteration is : 40473.82\n",
      "Min cost after itteration is : 39876.0\n"
     ]
    },
    {
     "data": {
      "text/plain": [
       "'QanbOSZF\\\\NemxU]gCcJk[LyXAhMIjfPVz^Y`TurDG_KsoqtpwHRlWEvBidQ'"
      ]
     },
     "execution_count": 135,
     "metadata": {},
     "output_type": "execute_result"
    }
   ],
   "source": [
    "paths_dataframe = pd.DataFrame(paths_dataframe_to_list)\n",
    "max_after_itteration = paths_dataframe['Cost'].max()\n",
    "mean_after_itteration = paths_dataframe['Cost'].mean()\n",
    "min_after_itteration = paths_dataframe['Cost'].min()\n",
    "print('Max cost after itteration is :',max_after_itteration)\n",
    "print('Mean cost after itteration is :',mean_after_itteration)\n",
    "print('Min cost after itteration is :',min_after_itteration)\n",
    "best_cost = paths_dataframe['Cost'].min()\n",
    "best_path_index = paths_dataframe['Cost'].idxmin()\n",
    "best_path_index\n",
    "best_path = paths_dataframe.loc[best_path_index, 'Path']\n",
    "print(best_path)"
   ]
  },
  {
   "cell_type": "code",
   "execution_count": 49,
   "id": "38ae9934",
   "metadata": {},
   "outputs": [],
   "source": [
    "pic_index = 0"
   ]
  },
  {
   "cell_type": "code",
   "execution_count": 94,
   "id": "208d9875",
   "metadata": {
    "scrolled": false
   },
   "outputs": [
    {
     "data": {
      "image/png": "[encoded data removed]",
      "text/plain": [
       "<Figure size 640x480 with 1 Axes>"
      ]
     },
     "metadata": {},
     "output_type": "display_data"
    }
   ],
   "source": [
    "plt.title('Population:{}, Tournament:{}, Crossover:{}, Mutation:{}_{},  Itteration:{}'.format(\\\n",
    "sample_population_size , number_of_contenders_for_tournament, crossover_check , mutation_check , no_of_genes_to_mutate, \\\n",
    " number_of_itterations ))\n",
    "plt.plot(itteration , max_cost_list , label = 'max')\n",
    "plt.plot(itteration , mean_cost_list, label = 'mean')\n",
    "plt.plot(itteration , min_cost_list, label = 'min')\n",
    "plt.legend()\n",
    "plt.scatter(len(itteration) , min(min_cost_list),color = 'red')\n",
    "plt.grid(True)\n",
    "# the following will be annotate the text \n",
    "annotation_text = '{}\\n{}'.format( best_path , min(min_cost_list))\n",
    "plt.annotate(annotation_text, xy=(len(itteration), min(min_cost_list)), textcoords='offset points', xytext=(-100, 50), ha='center')\n",
    "# the following will save the figure\n",
    "plt.savefig('Index{}_P{}_T{}_C{}_M{}{}_\\\n",
    "I{}.jpg'.format(pic_index , sample_population_size , number_of_contenders_for_tournament,\\\n",
    "                crossover_check  , mutation_check , no_of_genes_to_mutate, number_of_itterations))\n",
    "# this will add the index for the experimentation\n",
    "pic_index += 1"
   ]
  }
 ],
 "metadata": {
  "kernelspec": {
   "display_name": "Python 3 (ipykernel)",
   "language": "python",
   "name": "python3"
  },
  "language_info": {
   "codemirror_mode": {
    "name": "ipython",
    "version": 3
   },
   "file_extension": ".py",
   "mimetype": "text/x-python",
   "name": "python",
   "nbconvert_exporter": "python",
   "pygments_lexer": "ipython3",
   "version": "3.10.9"
  }
 },
 "nbformat": 4,
 "nbformat_minor": 5
}
